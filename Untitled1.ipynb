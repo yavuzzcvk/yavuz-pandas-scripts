{
 "cells": [
  {
   "cell_type": "code",
   "execution_count": 21,
   "id": "b54f9d58-ae5d-4d38-895d-978f89a3257f",
   "metadata": {},
   "outputs": [],
   "source": [
    "import pandas as pd"
   ]
  },
  {
   "cell_type": "code",
   "execution_count": 22,
   "id": "b9139eb5-4bc4-4de2-8c8e-6bebacb01d9d",
   "metadata": {},
   "outputs": [],
   "source": [
    "df = pd.read_csv('eccomerce.csv')"
   ]
  },
  {
   "cell_type": "markdown",
   "id": "2a2e058b-b03e-48b2-b76c-1ad24bb59052",
   "metadata": {},
   "source": [
    "<h2>İlk olarak kabataslak görünüşüne bakmak istiyorum</h2>"
   ]
  },
  {
   "cell_type": "code",
   "execution_count": 23,
   "id": "e55d5041-0998-4f00-8fe4-121ecc7a2415",
   "metadata": {},
   "outputs": [
    {
     "data": {
      "text/html": [
       "<div>\n",
       "<style scoped>\n",
       "    .dataframe tbody tr th:only-of-type {\n",
       "        vertical-align: middle;\n",
       "    }\n",
       "\n",
       "    .dataframe tbody tr th {\n",
       "        vertical-align: top;\n",
       "    }\n",
       "\n",
       "    .dataframe thead th {\n",
       "        text-align: right;\n",
       "    }\n",
       "</style>\n",
       "<table border=\"1\" class=\"dataframe\">\n",
       "  <thead>\n",
       "    <tr style=\"text-align: right;\">\n",
       "      <th></th>\n",
       "      <th>customer_id</th>\n",
       "      <th>first_name</th>\n",
       "      <th>last_name</th>\n",
       "      <th>gender</th>\n",
       "      <th>age_group</th>\n",
       "      <th>signup_date</th>\n",
       "      <th>country</th>\n",
       "      <th>product_id</th>\n",
       "      <th>product_name</th>\n",
       "      <th>category</th>\n",
       "      <th>quantity</th>\n",
       "      <th>unit_price</th>\n",
       "      <th>order_id</th>\n",
       "      <th>order_date</th>\n",
       "      <th>order_status</th>\n",
       "      <th>payment_method</th>\n",
       "      <th>rating</th>\n",
       "      <th>review_text</th>\n",
       "      <th>review_id</th>\n",
       "      <th>review_date</th>\n",
       "    </tr>\n",
       "  </thead>\n",
       "  <tbody>\n",
       "    <tr>\n",
       "      <th>0</th>\n",
       "      <td>CUST2353</td>\n",
       "      <td>Erica</td>\n",
       "      <td>Oliver</td>\n",
       "      <td>Female</td>\n",
       "      <td>Teenagers</td>\n",
       "      <td>2022-06-29</td>\n",
       "      <td>Canada</td>\n",
       "      <td>PROD108</td>\n",
       "      <td>Fitbit Versa 3</td>\n",
       "      <td>Electronics</td>\n",
       "      <td>3</td>\n",
       "      <td>229</td>\n",
       "      <td>ORD10000</td>\n",
       "      <td>2023-07-13</td>\n",
       "      <td>Pending</td>\n",
       "      <td>Credit Card</td>\n",
       "      <td>2</td>\n",
       "      <td>good</td>\n",
       "      <td>REV20000</td>\n",
       "      <td>2025-06-06</td>\n",
       "    </tr>\n",
       "    <tr>\n",
       "      <th>1</th>\n",
       "      <td>CUST4463</td>\n",
       "      <td>Christopher</td>\n",
       "      <td>White</td>\n",
       "      <td>Male</td>\n",
       "      <td>Adults</td>\n",
       "      <td>2023-08-24</td>\n",
       "      <td>China</td>\n",
       "      <td>PROD103</td>\n",
       "      <td>Levi's Jeans</td>\n",
       "      <td>Apparel</td>\n",
       "      <td>4</td>\n",
       "      <td>59</td>\n",
       "      <td>ORD10001</td>\n",
       "      <td>2024-08-12</td>\n",
       "      <td>Pending</td>\n",
       "      <td>PayPal</td>\n",
       "      <td>2</td>\n",
       "      <td>average</td>\n",
       "      <td>REV20001</td>\n",
       "      <td>2023-08-05</td>\n",
       "    </tr>\n",
       "    <tr>\n",
       "      <th>2</th>\n",
       "      <td>CUST4512</td>\n",
       "      <td>Spencer</td>\n",
       "      <td>Foster</td>\n",
       "      <td>Male</td>\n",
       "      <td>Senior</td>\n",
       "      <td>2023-07-18</td>\n",
       "      <td>Germany</td>\n",
       "      <td>PROD111</td>\n",
       "      <td>Lego Star Wars Set</td>\n",
       "      <td>Toys</td>\n",
       "      <td>2</td>\n",
       "      <td>59</td>\n",
       "      <td>ORD10002</td>\n",
       "      <td>2024-08-04</td>\n",
       "      <td>Delivered</td>\n",
       "      <td>Cash on Delivery</td>\n",
       "      <td>5</td>\n",
       "      <td>good</td>\n",
       "      <td>REV20002</td>\n",
       "      <td>2023-01-03</td>\n",
       "    </tr>\n",
       "    <tr>\n",
       "      <th>3</th>\n",
       "      <td>CUST5711</td>\n",
       "      <td>Jessica</td>\n",
       "      <td>Harris</td>\n",
       "      <td>Male</td>\n",
       "      <td>Teenagers</td>\n",
       "      <td>2025-08-22</td>\n",
       "      <td>France</td>\n",
       "      <td>PROD107</td>\n",
       "      <td>Dyson Vacuum</td>\n",
       "      <td>Home &amp; Kitchen</td>\n",
       "      <td>4</td>\n",
       "      <td>399</td>\n",
       "      <td>ORD10003</td>\n",
       "      <td>2025-05-23</td>\n",
       "      <td>Delivered</td>\n",
       "      <td>Cash on Delivery</td>\n",
       "      <td>2</td>\n",
       "      <td>very good</td>\n",
       "      <td>REV20003</td>\n",
       "      <td>2023-03-14</td>\n",
       "    </tr>\n",
       "    <tr>\n",
       "      <th>4</th>\n",
       "      <td>CUST1296</td>\n",
       "      <td>Amy</td>\n",
       "      <td>Johnson</td>\n",
       "      <td>Female</td>\n",
       "      <td>Teenagers</td>\n",
       "      <td>2021-03-23</td>\n",
       "      <td>Brazil</td>\n",
       "      <td>PROD105</td>\n",
       "      <td>Adidas Running Shoes</td>\n",
       "      <td>Apparel</td>\n",
       "      <td>1</td>\n",
       "      <td>110</td>\n",
       "      <td>ORD10004</td>\n",
       "      <td>2023-07-02</td>\n",
       "      <td>Returned</td>\n",
       "      <td>Cash on Delivery</td>\n",
       "      <td>1</td>\n",
       "      <td>very good</td>\n",
       "      <td>REV20004</td>\n",
       "      <td>2023-10-18</td>\n",
       "    </tr>\n",
       "  </tbody>\n",
       "</table>\n",
       "</div>"
      ],
      "text/plain": [
       "  customer_id   first_name last_name  gender  age_group signup_date  country  \\\n",
       "0    CUST2353        Erica    Oliver  Female  Teenagers  2022-06-29   Canada   \n",
       "1    CUST4463  Christopher     White    Male     Adults  2023-08-24    China   \n",
       "2    CUST4512      Spencer    Foster    Male     Senior  2023-07-18  Germany   \n",
       "3    CUST5711      Jessica    Harris    Male  Teenagers  2025-08-22   France   \n",
       "4    CUST1296          Amy   Johnson  Female  Teenagers  2021-03-23   Brazil   \n",
       "\n",
       "  product_id          product_name        category  quantity  unit_price  \\\n",
       "0    PROD108        Fitbit Versa 3     Electronics         3         229   \n",
       "1    PROD103          Levi's Jeans         Apparel         4          59   \n",
       "2    PROD111    Lego Star Wars Set            Toys         2          59   \n",
       "3    PROD107          Dyson Vacuum  Home & Kitchen         4         399   \n",
       "4    PROD105  Adidas Running Shoes         Apparel         1         110   \n",
       "\n",
       "   order_id  order_date order_status    payment_method  rating review_text  \\\n",
       "0  ORD10000  2023-07-13      Pending       Credit Card       2        good   \n",
       "1  ORD10001  2024-08-12      Pending            PayPal       2     average   \n",
       "2  ORD10002  2024-08-04    Delivered  Cash on Delivery       5        good   \n",
       "3  ORD10003  2025-05-23    Delivered  Cash on Delivery       2   very good   \n",
       "4  ORD10004  2023-07-02     Returned  Cash on Delivery       1   very good   \n",
       "\n",
       "  review_id review_date  \n",
       "0  REV20000  2025-06-06  \n",
       "1  REV20001  2023-08-05  \n",
       "2  REV20002  2023-01-03  \n",
       "3  REV20003  2023-03-14  \n",
       "4  REV20004  2023-10-18  "
      ]
     },
     "execution_count": 23,
     "metadata": {},
     "output_type": "execute_result"
    }
   ],
   "source": [
    "df.head()"
   ]
  },
  {
   "cell_type": "markdown",
   "id": "c552156c-36c9-47bf-9bcc-8fd9b05129e4",
   "metadata": {},
   "source": [
    "<h2>Boş satırlar var mı yok mu onu kontrol ediyorum</h2>"
   ]
  },
  {
   "cell_type": "code",
   "execution_count": 24,
   "id": "d85ad471-7fab-4073-8e92-416a908260dd",
   "metadata": {},
   "outputs": [
    {
     "name": "stdout",
     "output_type": "stream",
     "text": [
      "<class 'pandas.core.frame.DataFrame'>\n",
      "RangeIndex: 10000 entries, 0 to 9999\n",
      "Data columns (total 20 columns):\n",
      " #   Column          Non-Null Count  Dtype \n",
      "---  ------          --------------  ----- \n",
      " 0   customer_id     10000 non-null  object\n",
      " 1   first_name      10000 non-null  object\n",
      " 2   last_name       10000 non-null  object\n",
      " 3   gender          10000 non-null  object\n",
      " 4   age_group       10000 non-null  object\n",
      " 5   signup_date     10000 non-null  object\n",
      " 6   country         10000 non-null  object\n",
      " 7   product_id      10000 non-null  object\n",
      " 8   product_name    10000 non-null  object\n",
      " 9   category        10000 non-null  object\n",
      " 10  quantity        10000 non-null  int64 \n",
      " 11  unit_price      10000 non-null  int64 \n",
      " 12  order_id        10000 non-null  object\n",
      " 13  order_date      10000 non-null  object\n",
      " 14  order_status    10000 non-null  object\n",
      " 15  payment_method  10000 non-null  object\n",
      " 16  rating          10000 non-null  int64 \n",
      " 17  review_text     10000 non-null  object\n",
      " 18  review_id       10000 non-null  object\n",
      " 19  review_date     10000 non-null  object\n",
      "dtypes: int64(3), object(17)\n",
      "memory usage: 1.5+ MB\n"
     ]
    }
   ],
   "source": [
    "df.info()"
   ]
  },
  {
   "cell_type": "markdown",
   "id": "9df7e3c8-e280-4741-803a-c0d746b7655d",
   "metadata": {},
   "source": [
    "<h2>\"customer_id,product_id\" gibi anahtar sütunlarda veri tiplerinde sorun var. Onların içeriğini sadece sayısal değeri bırakacak şekilde güncelliyorum</h2>"
   ]
  },
  {
   "cell_type": "code",
   "execution_count": 25,
   "id": "1e043fe5-e559-43c4-a4b8-027b5119a562",
   "metadata": {},
   "outputs": [
    {
     "data": {
      "text/html": [
       "<div>\n",
       "<style scoped>\n",
       "    .dataframe tbody tr th:only-of-type {\n",
       "        vertical-align: middle;\n",
       "    }\n",
       "\n",
       "    .dataframe tbody tr th {\n",
       "        vertical-align: top;\n",
       "    }\n",
       "\n",
       "    .dataframe thead th {\n",
       "        text-align: right;\n",
       "    }\n",
       "</style>\n",
       "<table border=\"1\" class=\"dataframe\">\n",
       "  <thead>\n",
       "    <tr style=\"text-align: right;\">\n",
       "      <th></th>\n",
       "      <th>customer_id</th>\n",
       "      <th>first_name</th>\n",
       "      <th>last_name</th>\n",
       "      <th>gender</th>\n",
       "      <th>age_group</th>\n",
       "      <th>signup_date</th>\n",
       "      <th>country</th>\n",
       "      <th>product_id</th>\n",
       "      <th>product_name</th>\n",
       "      <th>category</th>\n",
       "      <th>quantity</th>\n",
       "      <th>unit_price</th>\n",
       "      <th>order_id</th>\n",
       "      <th>order_date</th>\n",
       "      <th>order_status</th>\n",
       "      <th>payment_method</th>\n",
       "      <th>rating</th>\n",
       "      <th>review_text</th>\n",
       "      <th>review_id</th>\n",
       "      <th>review_date</th>\n",
       "    </tr>\n",
       "  </thead>\n",
       "  <tbody>\n",
       "    <tr>\n",
       "      <th>0</th>\n",
       "      <td>2353</td>\n",
       "      <td>Erica</td>\n",
       "      <td>Oliver</td>\n",
       "      <td>Female</td>\n",
       "      <td>Teenagers</td>\n",
       "      <td>2022-06-29</td>\n",
       "      <td>Canada</td>\n",
       "      <td>108</td>\n",
       "      <td>Fitbit Versa 3</td>\n",
       "      <td>Electronics</td>\n",
       "      <td>3</td>\n",
       "      <td>229</td>\n",
       "      <td>10000</td>\n",
       "      <td>2023-07-13</td>\n",
       "      <td>Pending</td>\n",
       "      <td>Credit Card</td>\n",
       "      <td>2</td>\n",
       "      <td>good</td>\n",
       "      <td>20000</td>\n",
       "      <td>2025-06-06</td>\n",
       "    </tr>\n",
       "    <tr>\n",
       "      <th>1</th>\n",
       "      <td>4463</td>\n",
       "      <td>Christopher</td>\n",
       "      <td>White</td>\n",
       "      <td>Male</td>\n",
       "      <td>Adults</td>\n",
       "      <td>2023-08-24</td>\n",
       "      <td>China</td>\n",
       "      <td>103</td>\n",
       "      <td>Levi's Jeans</td>\n",
       "      <td>Apparel</td>\n",
       "      <td>4</td>\n",
       "      <td>59</td>\n",
       "      <td>10001</td>\n",
       "      <td>2024-08-12</td>\n",
       "      <td>Pending</td>\n",
       "      <td>PayPal</td>\n",
       "      <td>2</td>\n",
       "      <td>average</td>\n",
       "      <td>20001</td>\n",
       "      <td>2023-08-05</td>\n",
       "    </tr>\n",
       "    <tr>\n",
       "      <th>2</th>\n",
       "      <td>4512</td>\n",
       "      <td>Spencer</td>\n",
       "      <td>Foster</td>\n",
       "      <td>Male</td>\n",
       "      <td>Senior</td>\n",
       "      <td>2023-07-18</td>\n",
       "      <td>Germany</td>\n",
       "      <td>111</td>\n",
       "      <td>Lego Star Wars Set</td>\n",
       "      <td>Toys</td>\n",
       "      <td>2</td>\n",
       "      <td>59</td>\n",
       "      <td>10002</td>\n",
       "      <td>2024-08-04</td>\n",
       "      <td>Delivered</td>\n",
       "      <td>Cash on Delivery</td>\n",
       "      <td>5</td>\n",
       "      <td>good</td>\n",
       "      <td>20002</td>\n",
       "      <td>2023-01-03</td>\n",
       "    </tr>\n",
       "    <tr>\n",
       "      <th>3</th>\n",
       "      <td>5711</td>\n",
       "      <td>Jessica</td>\n",
       "      <td>Harris</td>\n",
       "      <td>Male</td>\n",
       "      <td>Teenagers</td>\n",
       "      <td>2025-08-22</td>\n",
       "      <td>France</td>\n",
       "      <td>107</td>\n",
       "      <td>Dyson Vacuum</td>\n",
       "      <td>Home &amp; Kitchen</td>\n",
       "      <td>4</td>\n",
       "      <td>399</td>\n",
       "      <td>10003</td>\n",
       "      <td>2025-05-23</td>\n",
       "      <td>Delivered</td>\n",
       "      <td>Cash on Delivery</td>\n",
       "      <td>2</td>\n",
       "      <td>very good</td>\n",
       "      <td>20003</td>\n",
       "      <td>2023-03-14</td>\n",
       "    </tr>\n",
       "    <tr>\n",
       "      <th>4</th>\n",
       "      <td>1296</td>\n",
       "      <td>Amy</td>\n",
       "      <td>Johnson</td>\n",
       "      <td>Female</td>\n",
       "      <td>Teenagers</td>\n",
       "      <td>2021-03-23</td>\n",
       "      <td>Brazil</td>\n",
       "      <td>105</td>\n",
       "      <td>Adidas Running Shoes</td>\n",
       "      <td>Apparel</td>\n",
       "      <td>1</td>\n",
       "      <td>110</td>\n",
       "      <td>10004</td>\n",
       "      <td>2023-07-02</td>\n",
       "      <td>Returned</td>\n",
       "      <td>Cash on Delivery</td>\n",
       "      <td>1</td>\n",
       "      <td>very good</td>\n",
       "      <td>20004</td>\n",
       "      <td>2023-10-18</td>\n",
       "    </tr>\n",
       "  </tbody>\n",
       "</table>\n",
       "</div>"
      ],
      "text/plain": [
       "  customer_id   first_name last_name  gender  age_group signup_date  country  \\\n",
       "0        2353        Erica    Oliver  Female  Teenagers  2022-06-29   Canada   \n",
       "1        4463  Christopher     White    Male     Adults  2023-08-24    China   \n",
       "2        4512      Spencer    Foster    Male     Senior  2023-07-18  Germany   \n",
       "3        5711      Jessica    Harris    Male  Teenagers  2025-08-22   France   \n",
       "4        1296          Amy   Johnson  Female  Teenagers  2021-03-23   Brazil   \n",
       "\n",
       "  product_id          product_name        category  quantity  unit_price  \\\n",
       "0        108        Fitbit Versa 3     Electronics         3         229   \n",
       "1        103          Levi's Jeans         Apparel         4          59   \n",
       "2        111    Lego Star Wars Set            Toys         2          59   \n",
       "3        107          Dyson Vacuum  Home & Kitchen         4         399   \n",
       "4        105  Adidas Running Shoes         Apparel         1         110   \n",
       "\n",
       "  order_id  order_date order_status    payment_method  rating review_text  \\\n",
       "0    10000  2023-07-13      Pending       Credit Card       2        good   \n",
       "1    10001  2024-08-12      Pending            PayPal       2     average   \n",
       "2    10002  2024-08-04    Delivered  Cash on Delivery       5        good   \n",
       "3    10003  2025-05-23    Delivered  Cash on Delivery       2   very good   \n",
       "4    10004  2023-07-02     Returned  Cash on Delivery       1   very good   \n",
       "\n",
       "  review_id review_date  \n",
       "0     20000  2025-06-06  \n",
       "1     20001  2023-08-05  \n",
       "2     20002  2023-01-03  \n",
       "3     20003  2023-03-14  \n",
       "4     20004  2023-10-18  "
      ]
     },
     "execution_count": 25,
     "metadata": {},
     "output_type": "execute_result"
    }
   ],
   "source": [
    "cols = [\"customer_id\", \"product_id\", \"order_id\", \"review_id\"]\n",
    "\n",
    "for col in cols:\n",
    "    df[col] = df[col].str.extract(\"(\\d+)\")\n",
    "df.head()"
   ]
  },
  {
   "cell_type": "markdown",
   "id": "9df79914-688e-44c6-875a-9f8d78c5e924",
   "metadata": {},
   "source": [
    "<h2>Tarih sütunlarını ve en son adımda satırlarını düzenlediğim anahtar sütunların veri tiplerini düzeltiyorum</h2>"
   ]
  },
  {
   "cell_type": "code",
   "execution_count": 26,
   "id": "f9e0d152-9ebf-4155-ad51-1a0a263add15",
   "metadata": {},
   "outputs": [
    {
     "name": "stdout",
     "output_type": "stream",
     "text": [
      "<class 'pandas.core.frame.DataFrame'>\n",
      "RangeIndex: 10000 entries, 0 to 9999\n",
      "Data columns (total 20 columns):\n",
      " #   Column          Non-Null Count  Dtype         \n",
      "---  ------          --------------  -----         \n",
      " 0   customer_id     10000 non-null  int64         \n",
      " 1   first_name      10000 non-null  object        \n",
      " 2   last_name       10000 non-null  object        \n",
      " 3   gender          10000 non-null  object        \n",
      " 4   age_group       10000 non-null  object        \n",
      " 5   signup_date     10000 non-null  datetime64[ns]\n",
      " 6   country         10000 non-null  object        \n",
      " 7   product_id      10000 non-null  int64         \n",
      " 8   product_name    10000 non-null  object        \n",
      " 9   category        10000 non-null  object        \n",
      " 10  quantity        10000 non-null  int64         \n",
      " 11  unit_price      10000 non-null  int64         \n",
      " 12  order_id        10000 non-null  int64         \n",
      " 13  order_date      10000 non-null  datetime64[ns]\n",
      " 14  order_status    10000 non-null  object        \n",
      " 15  payment_method  10000 non-null  object        \n",
      " 16  rating          10000 non-null  int64         \n",
      " 17  review_text     10000 non-null  object        \n",
      " 18  review_id       10000 non-null  int64         \n",
      " 19  review_date     10000 non-null  datetime64[ns]\n",
      "dtypes: datetime64[ns](3), int64(7), object(10)\n",
      "memory usage: 1.5+ MB\n"
     ]
    }
   ],
   "source": [
    "date_cols = [\"signup_date\", \"order_date\", \"review_date\"]\n",
    "\n",
    "for col in date_cols:\n",
    "    df[col] = pd.to_datetime(df[col])\n",
    "    \n",
    "int_cols = [\"customer_id\", \"product_id\", \"order_id\", \"review_id\"]\n",
    "\n",
    "for col in int_cols:\n",
    "    df[col] = df[col].astype(int)\n",
    "df.info()\n"
   ]
  },
  {
   "cell_type": "markdown",
   "id": "fffab906-26c6-43bf-af02-ebe37da1df4c",
   "metadata": {},
   "source": [
    "<h2>Null yada NaN değerler varmı kontrol ediyorum</h2>"
   ]
  },
  {
   "cell_type": "code",
   "execution_count": 27,
   "id": "fa2ee2d6-1d70-4540-a73a-e0ceba831957",
   "metadata": {},
   "outputs": [
    {
     "data": {
      "text/plain": [
       "customer_id       0\n",
       "first_name        0\n",
       "last_name         0\n",
       "gender            0\n",
       "age_group         0\n",
       "signup_date       0\n",
       "country           0\n",
       "product_id        0\n",
       "product_name      0\n",
       "category          0\n",
       "quantity          0\n",
       "unit_price        0\n",
       "order_id          0\n",
       "order_date        0\n",
       "order_status      0\n",
       "payment_method    0\n",
       "rating            0\n",
       "review_text       0\n",
       "review_id         0\n",
       "review_date       0\n",
       "dtype: int64"
      ]
     },
     "execution_count": 27,
     "metadata": {},
     "output_type": "execute_result"
    }
   ],
   "source": [
    "df.isna().sum()"
   ]
  },
  {
   "cell_type": "markdown",
   "id": "aff5cbb6-9284-468e-9262-b9fe2ca3374c",
   "metadata": {},
   "source": [
    "<h1>Analiz Kısmı</h1>\n",
    "<H2>Analize başlarken toplam gelir sütunu oluşturuyorum ki her defasında unitprice*quantity çarpımıyla uğraşmayayım</H2>"
   ]
  },
  {
   "cell_type": "code",
   "execution_count": 28,
   "id": "2b9b60fe-193b-4867-86ba-b3136ec6c5e9",
   "metadata": {},
   "outputs": [],
   "source": [
    "df['revenue'] = df['quantity']*df['unit_price']\n"
   ]
  },
  {
   "cell_type": "markdown",
   "id": "0ddd2ed5-4c0f-448a-86f2-cb45420d134e",
   "metadata": {},
   "source": [
    "<h2>Toplam satış tutarı</h2>"
   ]
  },
  {
   "cell_type": "code",
   "execution_count": 29,
   "id": "dc10afc1-4012-4b0f-a9a0-f19a2359c2a8",
   "metadata": {},
   "outputs": [
    {
     "name": "stdout",
     "output_type": "stream",
     "text": [
      "Total Revenue : 7450763\n"
     ]
    }
   ],
   "source": [
    "TotalRevenue = df['revenue'].sum()\n",
    "print(\"Total Revenue :\", TotalRevenue)"
   ]
  },
  {
   "cell_type": "markdown",
   "id": "07d6b9f0-555b-48ea-bb3e-a4a7b82de018",
   "metadata": {},
   "source": [
    "<h2>Benzersiz müşteri sayısı</h2>"
   ]
  },
  {
   "cell_type": "code",
   "execution_count": 30,
   "id": "7b487f23-7406-48b1-9262-339e10729d37",
   "metadata": {},
   "outputs": [
    {
     "name": "stdout",
     "output_type": "stream",
     "text": [
      "Total Customers 4327\n"
     ]
    }
   ],
   "source": [
    "TotalCustomers = df['customer_id'].nunique()\n",
    "print(\"Total Customers\", TotalCustomers)"
   ]
  },
  {
   "cell_type": "markdown",
   "id": "44022d89-a89e-4315-968a-94cf17628404",
   "metadata": {},
   "source": [
    "<h2>Ülkeler bazında toplam müşteri sayısı ve sipariş sayıları</h2>"
   ]
  },
  {
   "cell_type": "code",
   "execution_count": 31,
   "id": "87151f09-3cb6-459c-85d3-a0fda1b494c0",
   "metadata": {},
   "outputs": [
    {
     "name": "stdout",
     "output_type": "stream",
     "text": [
      "     country  ToplamMüşteriSayisi  ToplamSiparisSayisi\n",
      "0  Australia                  443                 1043\n",
      "1     Brazil                  428                 1019\n",
      "2     Canada                  438                  997\n",
      "3      China                  458                 1054\n",
      "4     France                  442                 1060\n",
      "5    Germany                  393                  885\n",
      "6      India                  449                 1036\n",
      "7      Japan                  445                  976\n",
      "8         UK                  409                  943\n",
      "9        USA                  422                  987\n"
     ]
    }
   ],
   "source": [
    "CountryAnalysis =df.groupby('country').agg(\n",
    "    ToplamMüşteriSayisi = ('customer_id','nunique'),\n",
    "    ToplamSiparisSayisi = ('order_id','count') ).reset_index()\n",
    "print(CountryAnalysis)\n"
   ]
  },
  {
   "cell_type": "markdown",
   "id": "507a54a3-2f90-482d-bb8c-3988e66f37d4",
   "metadata": {},
   "source": [
    "<h2>En çok satan 10 ürün ve getirilerini azalan şekilde sıralayıp ilk 10 ürünü listelemek</h2>"
   ]
  },
  {
   "cell_type": "code",
   "execution_count": 32,
   "id": "29eacfe6-0013-4e37-a851-ee38bf7b35bc",
   "metadata": {},
   "outputs": [
    {
     "name": "stdout",
     "output_type": "stream",
     "text": [
      "                                 SatilanAdet  ToplamGetiri\n",
      "product_id product_name                                   \n",
      "100        iPhone 14                    1883       1881117\n",
      "101        Samsung Galaxy S23           1981       1780919\n",
      "107        Dyson Vacuum                 2196        876204\n",
      "108        Fitbit Versa 3               1934        442886\n",
      "102        Sony Headphones              2136        425064\n",
      "112        Barbie Dreamhouse            1933        384667\n",
      "113        Wilson Tennis Racket         1950        290550\n",
      "109        Kindle Paperwhite            1973        254517\n",
      "104        Nike Air Max                 2042        245040\n",
      "105        Adidas Running Shoes         2093        230230\n"
     ]
    }
   ],
   "source": [
    "ProductSales = df.groupby(['product_id','product_name']).agg(\n",
    "    SatilanAdet = ('quantity','sum'),\n",
    "    ToplamGetiri = ('revenue','sum') )\n",
    "ProductSales = ProductSales.sort_values(by=\"ToplamGetiri\", ascending=False)\n",
    "print(ProductSales.head(10))\n",
    "\n"
   ]
  },
  {
   "cell_type": "markdown",
   "id": "b3f05aad-8f82-4693-8952-01086b5bc87a",
   "metadata": {},
   "source": [
    "<h2>Kategori bazlı satış toplamları</h2>"
   ]
  },
  {
   "cell_type": "code",
   "execution_count": 33,
   "id": "c15a42fd-9971-4822-9c36-cde452fe0e38",
   "metadata": {},
   "outputs": [
    {
     "name": "stdout",
     "output_type": "stream",
     "text": [
      "category\n",
      "Electronics       4529986\n",
      "Home & Kitchen    1069650\n",
      "Apparel            597636\n",
      "Toys               499894\n",
      "Books              415797\n",
      "Sports             337800\n",
      "Name: revenue, dtype: int64\n"
     ]
    }
   ],
   "source": [
    "categorysales = df.groupby('category')['revenue'].sum()\n",
    "categorysales = categorysales.sort_values(ascending =False)\n",
    "print(categorysales)\n",
    "    "
   ]
  },
  {
   "cell_type": "markdown",
   "id": "1cdc27e2-2e6d-4567-8e47-55be9da0a226",
   "metadata": {},
   "source": [
    "<h2>Ürün bazında gruplama yaparak en yüksek ortalama rating puanı olanları listeler ve incelenme sayılarınıda yanında gösterir </h2>"
   ]
  },
  {
   "cell_type": "code",
   "execution_count": 34,
   "id": "2de6d04d-ea9f-447f-8ca5-7337e5c38d98",
   "metadata": {},
   "outputs": [
    {
     "name": "stdout",
     "output_type": "stream",
     "text": [
      "                      avgrating  reviewcount\n",
      "product_name                                \n",
      "Sony Headphones        3.107402          689\n",
      "Barbie Dreamhouse      3.060976          656\n",
      "Harry Potter Box Set   3.045858          676\n",
      "Adidas Running Shoes   3.008824          680\n",
      "Samsung Galaxy S23     2.996890          643\n",
      "Fitbit Versa 3         2.993930          659\n",
      "iPhone 14              2.984000          625\n",
      "Kindle Paperwhite      2.980243          658\n",
      "Nike Air Max           2.974777          674\n",
      "Instant Pot            2.974281          661\n"
     ]
    }
   ],
   "source": [
    "ratinganalysis = df.groupby('product_name').agg(\n",
    "    avgrating = ('rating','mean'),\n",
    "    reviewcount = ('review_id','count'))\n",
    "\n",
    "ratinganalysis = ratinganalysis.sort_values(by='avgrating', ascending = False).head(10)\n",
    "print(ratinganalysis)"
   ]
  },
  {
   "cell_type": "markdown",
   "id": "6bbe06a4-c11d-4a91-96e1-825793a97494",
   "metadata": {},
   "source": [
    "<h2>Ödeme yöntemlerinin yüzdesel payını hesaplar</h2>"
   ]
  },
  {
   "cell_type": "code",
   "execution_count": 35,
   "id": "46f77875-f4ca-464b-a210-16357a6745c1",
   "metadata": {},
   "outputs": [
    {
     "name": "stdout",
     "output_type": "stream",
     "text": [
      "Ödeme Yöntemleri Yüzdesel Dağılımı:\n",
      "-----------------------------------\n",
      "payment_method\n",
      "Cash on Delivery    34.09\n",
      "PayPal              33.01\n",
      "Credit Card         32.90\n",
      "Name: proportion, dtype: float64\n"
     ]
    }
   ],
   "source": [
    "PaymentDistribution = df['payment_method'].value_counts(normalize=True)\n",
    "PaymentPercentage = (PaymentDistribution * 100).round(2)\n",
    "\n",
    "print(\"Ödeme Yöntemleri Yüzdesel Dağılımı:\")\n",
    "print(\"-\" * 35)\n",
    "print(PaymentPercentage)"
   ]
  },
  {
   "cell_type": "markdown",
   "id": "9531f81f-fb7e-4b06-8d2d-a84ebd16a457",
   "metadata": {},
   "source": [
    "<h2>Yıllara göre satışların toplamları </h2>"
   ]
  },
  {
   "cell_type": "code",
   "execution_count": 36,
   "id": "a33a875b-acd5-4375-abe5-cb1dedac356d",
   "metadata": {},
   "outputs": [
    {
     "name": "stdout",
     "output_type": "stream",
     "text": [
      "order_date\n",
      "2022     847031\n",
      "2023    2490025\n",
      "2024    2506001\n",
      "2025    1607706\n",
      "Name: revenue, dtype: int64\n"
     ]
    }
   ],
   "source": [
    "sales_per_year = df.groupby(df['order_date'].dt.year)['revenue'].sum()\n",
    "print(sales_per_year)\n",
    "\n"
   ]
  },
  {
   "cell_type": "markdown",
   "id": "718d667b-b9fa-431a-a0a4-e3febea17142",
   "metadata": {},
   "source": [
    "<h2>Görece büyük alışverişlerin  ödeme yöntemlerinin dağılımı incelediğim analiz </h2>"
   ]
  },
  {
   "cell_type": "code",
   "execution_count": 53,
   "id": "7c6c1a8c-a643-413d-b64b-aa5319ff5d73",
   "metadata": {},
   "outputs": [
    {
     "name": "stdout",
     "output_type": "stream",
     "text": [
      "1000 TL ve üzerindeki siparişlerde ödeme yöntemi dağılımı (adet ve toplam tutar):\n",
      "                  order_count\n",
      "payment_method               \n",
      "Cash on Delivery          509\n",
      "Credit Card               522\n",
      "PayPal                    536\n",
      "\n",
      "1000 TL ve üzerindeki siparişlerde ödeme yöntemi dağılımı (%):\n",
      "payment_method\n",
      "PayPal              34.205488\n",
      "Credit Card         33.312061\n",
      "Cash on Delivery    32.482451\n",
      "Name: proportion, dtype: float64\n"
     ]
    }
   ],
   "source": [
    "\n",
    "THRESHOLD = 1000\n",
    "\n",
    "\n",
    "high_value_orders = df[df['revenue'] >= THRESHOLD]\n",
    "\n",
    "\n",
    "order_summary = high_value_orders.groupby('payment_method').agg(\n",
    "    order_count=('revenue', 'count')\n",
    ")\n",
    "\n",
    "order_count_percent = high_value_orders['payment_method'].value_counts(normalize=True) * 100\n",
    "\n",
    "print(\"1000 TL ve üzerindeki siparişlerde ödeme yöntemi dağılımı (adet ve toplam tutar):\")\n",
    "print(order_summary)\n",
    "print(\"\\n1000 TL ve üzerindeki siparişlerde ödeme yöntemi dağılımı (%):\")\n",
    "print(order_count_percent)\n"
   ]
  },
  {
   "cell_type": "markdown",
   "id": "eb7e0e4f-e123-4479-b0ed-0d6154eece88",
   "metadata": {},
   "source": [
    "<h2>Yüksek Değerli Siparişlerin Ödeme Davranışı Analizi </h2>"
   ]
  },
  {
   "cell_type": "code",
   "execution_count": 64,
   "id": "6272ab83-845e-4224-8535-c0a7cacea138",
   "metadata": {},
   "outputs": [
    {
     "name": "stdout",
     "output_type": "stream",
     "text": [
      "                  order_count  order_percent\n",
      "payment_method                              \n",
      "PayPal                    279      35.907336\n",
      "Credit Card               263      33.848134\n",
      "Cash on Delivery          235      30.244530\n"
     ]
    }
   ],
   "source": [
    "X = 2000\n",
    "\n",
    "\n",
    "high_value_orders = df[df['revenue'] >= X]\n",
    "\n",
    "\n",
    "order_summary = (\n",
    "    high_value_orders.groupby('payment_method')['revenue']\n",
    "    .agg(order_count='count')  # sadece adet\n",
    "    .assign(order_percent=lambda x: x['order_count'] / x['order_count'].sum() * 100)\n",
    "    .sort_values('order_count', ascending=False)\n",
    ")\n",
    "print(order_summary)\n"
   ]
  },
  {
   "cell_type": "code",
   "execution_count": null,
   "id": "db4caa6f-efdf-47df-8405-bd550af2b015",
   "metadata": {},
   "outputs": [],
   "source": []
  }
 ],
 "metadata": {
  "kernelspec": {
   "display_name": "Python 3 (ipykernel)",
   "language": "python",
   "name": "python3"
  },
  "language_info": {
   "codemirror_mode": {
    "name": "ipython",
    "version": 3
   },
   "file_extension": ".py",
   "mimetype": "text/x-python",
   "name": "python",
   "nbconvert_exporter": "python",
   "pygments_lexer": "ipython3",
   "version": "3.13.5"
  }
 },
 "nbformat": 4,
 "nbformat_minor": 5
}
