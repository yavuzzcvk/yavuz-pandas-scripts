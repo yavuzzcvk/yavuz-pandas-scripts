{
 "cells": [
  {
   "cell_type": "code",
   "execution_count": 1,
   "id": "3a6a0b02-a729-4388-a02f-9878d7abf5cf",
   "metadata": {},
   "outputs": [],
   "source": [
    "import pandas as pd "
   ]
  },
  {
   "cell_type": "code",
   "execution_count": 2,
   "id": "93338d36-7da5-4bde-80b3-1175623cfa21",
   "metadata": {},
   "outputs": [],
   "source": [
    "patients = pd.read_csv(r'C:\\Users\\yavuzcevik\\Desktop\\hospital\\patients.csv')\n",
    "services_weekly = pd.read_csv(r'C:\\Users\\yavuzcevik\\Desktop\\hospital\\services_weekly.csv')\n",
    "staff = pd.read_csv(r'C:\\Users\\yavuzcevik\\Desktop\\hospital\\staff.csv')\n",
    "staff_schedule= pd.read_csv(r'C:\\Users\\yavuzcevik\\Desktop\\hospital\\staff_schedule.csv')"
   ]
  },
  {
   "cell_type": "markdown",
   "id": "0e890a4d-2cf0-4437-8770-10897fbbff6e",
   "metadata": {},
   "source": [
    "<h2>Tabloları ilk etapta  null veriler ve boş satırlar varmı diye  kontrol ettim  daha sonra duplicated() fonksiyonu ile tekrar eden değerler varmı diye baktım, problemin sadece tarih sütunlarının veri tiplerinde olduğunu gördüm ve onları düzelttim</h2>"
   ]
  },
  {
   "cell_type": "code",
   "execution_count": 3,
   "id": "0be9c4f5-4555-4bdb-add1-4b529dec9196",
   "metadata": {},
   "outputs": [
    {
     "name": "stdout",
     "output_type": "stream",
     "text": [
      "<class 'pandas.core.frame.DataFrame'>\n",
      "RangeIndex: 1000 entries, 0 to 999\n",
      "Data columns (total 7 columns):\n",
      " #   Column          Non-Null Count  Dtype \n",
      "---  ------          --------------  ----- \n",
      " 0   patient_id      1000 non-null   object\n",
      " 1   name            1000 non-null   object\n",
      " 2   age             1000 non-null   int64 \n",
      " 3   arrival_date    1000 non-null   object\n",
      " 4   departure_date  1000 non-null   object\n",
      " 5   service         1000 non-null   object\n",
      " 6   satisfaction    1000 non-null   int64 \n",
      "dtypes: int64(2), object(5)\n",
      "memory usage: 54.8+ KB\n"
     ]
    }
   ],
   "source": [
    "patients.info()"
   ]
  },
  {
   "cell_type": "code",
   "execution_count": 4,
   "id": "38823367-f8a0-42da-8776-966e8558854b",
   "metadata": {},
   "outputs": [],
   "source": [
    "patients['arrival_date'] = pd.to_datetime(patients['arrival_date']) \n",
    "patients['departure_date'] = pd.to_datetime(patients['departure_date']) "
   ]
  },
  {
   "cell_type": "code",
   "execution_count": 5,
   "id": "326e89a5-91ab-4b40-b64d-4ca71cffc612",
   "metadata": {},
   "outputs": [
    {
     "name": "stdout",
     "output_type": "stream",
     "text": [
      "<class 'pandas.core.frame.DataFrame'>\n",
      "RangeIndex: 208 entries, 0 to 207\n",
      "Data columns (total 10 columns):\n",
      " #   Column                Non-Null Count  Dtype \n",
      "---  ------                --------------  ----- \n",
      " 0   week                  208 non-null    int64 \n",
      " 1   month                 208 non-null    int64 \n",
      " 2   service               208 non-null    object\n",
      " 3   available_beds        208 non-null    int64 \n",
      " 4   patients_request      208 non-null    int64 \n",
      " 5   patients_admitted     208 non-null    int64 \n",
      " 6   patients_refused      208 non-null    int64 \n",
      " 7   patient_satisfaction  208 non-null    int64 \n",
      " 8   staff_morale          208 non-null    int64 \n",
      " 9   event                 208 non-null    object\n",
      "dtypes: int64(8), object(2)\n",
      "memory usage: 16.4+ KB\n"
     ]
    }
   ],
   "source": [
    "services_weekly.info()"
   ]
  },
  {
   "cell_type": "code",
   "execution_count": 6,
   "id": "2c329453-f112-482e-9999-e66e7360cc04",
   "metadata": {},
   "outputs": [
    {
     "name": "stdout",
     "output_type": "stream",
     "text": [
      "<class 'pandas.core.frame.DataFrame'>\n",
      "RangeIndex: 110 entries, 0 to 109\n",
      "Data columns (total 4 columns):\n",
      " #   Column      Non-Null Count  Dtype \n",
      "---  ------      --------------  ----- \n",
      " 0   staff_id    110 non-null    object\n",
      " 1   staff_name  110 non-null    object\n",
      " 2   role        110 non-null    object\n",
      " 3   service     110 non-null    object\n",
      "dtypes: object(4)\n",
      "memory usage: 3.6+ KB\n"
     ]
    }
   ],
   "source": [
    "staff.info()"
   ]
  },
  {
   "cell_type": "code",
   "execution_count": 7,
   "id": "3b7658b0-d8be-475a-92d3-3d34655080e3",
   "metadata": {},
   "outputs": [
    {
     "name": "stdout",
     "output_type": "stream",
     "text": [
      "<class 'pandas.core.frame.DataFrame'>\n",
      "RangeIndex: 6552 entries, 0 to 6551\n",
      "Data columns (total 6 columns):\n",
      " #   Column      Non-Null Count  Dtype \n",
      "---  ------      --------------  ----- \n",
      " 0   week        6552 non-null   int64 \n",
      " 1   staff_id    6552 non-null   object\n",
      " 2   staff_name  6552 non-null   object\n",
      " 3   role        6552 non-null   object\n",
      " 4   service     6552 non-null   object\n",
      " 5   present     6552 non-null   int64 \n",
      "dtypes: int64(2), object(4)\n",
      "memory usage: 307.3+ KB\n"
     ]
    }
   ],
   "source": [
    "staff_schedule.info()"
   ]
  },
  {
   "cell_type": "code",
   "execution_count": 8,
   "id": "12d1a7c0-15f9-49f9-a3fe-84a0fa7fdf21",
   "metadata": {},
   "outputs": [
    {
     "name": "stdout",
     "output_type": "stream",
     "text": [
      "0\n",
      "0\n",
      "0\n",
      "0\n"
     ]
    }
   ],
   "source": [
    "for df in [patients, services_weekly, staff, staff_schedule]:\n",
    "     print(df.duplicated().sum())"
   ]
  },
  {
   "cell_type": "markdown",
   "id": "a5b74bf5-e7cd-495b-84e7-28bde163cc16",
   "metadata": {},
   "source": [
    "<h1>ANALİZ AŞAMASI</h1>"
   ]
  },
  {
   "cell_type": "markdown",
   "id": "b7de4852-889e-4a82-ab8c-cfa249038e45",
   "metadata": {},
   "source": [
    "<h3>Her hasta için hastanede kalış süresini hesaplayan bir kolon açtım</h3>"
   ]
  },
  {
   "cell_type": "code",
   "execution_count": 9,
   "id": "fcc71a1e-afcf-4645-af7e-fc8a3f502f6c",
   "metadata": {},
   "outputs": [
    {
     "data": {
      "text/html": [
       "<div>\n",
       "<style scoped>\n",
       "    .dataframe tbody tr th:only-of-type {\n",
       "        vertical-align: middle;\n",
       "    }\n",
       "\n",
       "    .dataframe tbody tr th {\n",
       "        vertical-align: top;\n",
       "    }\n",
       "\n",
       "    .dataframe thead th {\n",
       "        text-align: right;\n",
       "    }\n",
       "</style>\n",
       "<table border=\"1\" class=\"dataframe\">\n",
       "  <thead>\n",
       "    <tr style=\"text-align: right;\">\n",
       "      <th></th>\n",
       "      <th>patient_id</th>\n",
       "      <th>name</th>\n",
       "      <th>age</th>\n",
       "      <th>arrival_date</th>\n",
       "      <th>departure_date</th>\n",
       "      <th>service</th>\n",
       "      <th>satisfaction</th>\n",
       "      <th>stay_duration_days</th>\n",
       "    </tr>\n",
       "  </thead>\n",
       "  <tbody>\n",
       "    <tr>\n",
       "      <th>0</th>\n",
       "      <td>PAT-09484753</td>\n",
       "      <td>Richard Rodriguez</td>\n",
       "      <td>24</td>\n",
       "      <td>2025-03-16</td>\n",
       "      <td>2025-03-22</td>\n",
       "      <td>surgery</td>\n",
       "      <td>61</td>\n",
       "      <td>6</td>\n",
       "    </tr>\n",
       "    <tr>\n",
       "      <th>1</th>\n",
       "      <td>PAT-f0644084</td>\n",
       "      <td>Shannon Walker</td>\n",
       "      <td>6</td>\n",
       "      <td>2025-12-13</td>\n",
       "      <td>2025-12-14</td>\n",
       "      <td>surgery</td>\n",
       "      <td>83</td>\n",
       "      <td>1</td>\n",
       "    </tr>\n",
       "    <tr>\n",
       "      <th>2</th>\n",
       "      <td>PAT-ac6162e4</td>\n",
       "      <td>Julia Torres</td>\n",
       "      <td>24</td>\n",
       "      <td>2025-06-29</td>\n",
       "      <td>2025-07-05</td>\n",
       "      <td>general_medicine</td>\n",
       "      <td>83</td>\n",
       "      <td>6</td>\n",
       "    </tr>\n",
       "    <tr>\n",
       "      <th>3</th>\n",
       "      <td>PAT-3dda2bb5</td>\n",
       "      <td>Crystal Johnson</td>\n",
       "      <td>32</td>\n",
       "      <td>2025-10-12</td>\n",
       "      <td>2025-10-23</td>\n",
       "      <td>emergency</td>\n",
       "      <td>81</td>\n",
       "      <td>11</td>\n",
       "    </tr>\n",
       "    <tr>\n",
       "      <th>4</th>\n",
       "      <td>PAT-08591375</td>\n",
       "      <td>Garrett Lin</td>\n",
       "      <td>25</td>\n",
       "      <td>2025-02-18</td>\n",
       "      <td>2025-02-25</td>\n",
       "      <td>ICU</td>\n",
       "      <td>76</td>\n",
       "      <td>7</td>\n",
       "    </tr>\n",
       "  </tbody>\n",
       "</table>\n",
       "</div>"
      ],
      "text/plain": [
       "     patient_id               name  age arrival_date departure_date  \\\n",
       "0  PAT-09484753  Richard Rodriguez   24   2025-03-16     2025-03-22   \n",
       "1  PAT-f0644084     Shannon Walker    6   2025-12-13     2025-12-14   \n",
       "2  PAT-ac6162e4       Julia Torres   24   2025-06-29     2025-07-05   \n",
       "3  PAT-3dda2bb5    Crystal Johnson   32   2025-10-12     2025-10-23   \n",
       "4  PAT-08591375        Garrett Lin   25   2025-02-18     2025-02-25   \n",
       "\n",
       "            service  satisfaction  stay_duration_days  \n",
       "0           surgery            61                   6  \n",
       "1           surgery            83                   1  \n",
       "2  general_medicine            83                   6  \n",
       "3         emergency            81                  11  \n",
       "4               ICU            76                   7  "
      ]
     },
     "execution_count": 9,
     "metadata": {},
     "output_type": "execute_result"
    }
   ],
   "source": [
    "patients['stay_duration_days'] = (patients['departure_date'] - patients['arrival_date']).dt.days\n",
    "patients.head()"
   ]
  },
  {
   "cell_type": "markdown",
   "id": "0b3a3093-85a4-4d6f-a3ea-ce5ebe491fc3",
   "metadata": {},
   "source": [
    "<h3>Hastaların ortalama yatış günü</h3>"
   ]
  },
  {
   "cell_type": "code",
   "execution_count": 10,
   "id": "297d3724-8362-46d9-b04a-e81fa1bdbf13",
   "metadata": {},
   "outputs": [
    {
     "name": "stdout",
     "output_type": "stream",
     "text": [
      "Ortalama Yatış Günü : 7.407\n"
     ]
    }
   ],
   "source": [
    "ortalama_yatis_gün = patients['stay_duration_days'].mean()\n",
    "print('Ortalama Yatış Günü :', ortalama_yatis_gün)"
   ]
  },
  {
   "cell_type": "markdown",
   "id": "ad03b8d3-62a0-425d-911a-a230c28c427c",
   "metadata": {},
   "source": [
    "<h3>Hastaların servise göre yattığı gün ortalaması</h3>"
   ]
  },
  {
   "cell_type": "code",
   "execution_count": 11,
   "id": "2327ca15-f877-484b-bdfb-3d07e6449a84",
   "metadata": {},
   "outputs": [
    {
     "name": "stdout",
     "output_type": "stream",
     "text": [
      "service\n",
      "ICU                 7.605809\n",
      "emergency           7.159696\n",
      "general_medicine    6.995868\n",
      "surgery             7.866142\n",
      "Name: stay_duration_days, dtype: float64\n"
     ]
    }
   ],
   "source": [
    "servis_bazinda_ortalama =  patients.groupby('service')['stay_duration_days'].mean()\n",
    "print(servis_bazinda_ortalama)"
   ]
  },
  {
   "cell_type": "markdown",
   "id": "b697ef27-cffb-4d40-a782-2b0c62975309",
   "metadata": {},
   "source": [
    "<h3>Hastaların ortalama yaşı</h3>"
   ]
  },
  {
   "cell_type": "code",
   "execution_count": 12,
   "id": "844f6773-b5d9-4a85-b152-c5c077d3edbd",
   "metadata": {},
   "outputs": [
    {
     "name": "stdout",
     "output_type": "stream",
     "text": [
      "Hastaların ortalama yaşı:  45.337\n"
     ]
    }
   ],
   "source": [
    "ortalama_yas =  patients['age'].mean()\n",
    "print('Hastaların ortalama yaşı: ', ortalama_yas)"
   ]
  },
  {
   "cell_type": "markdown",
   "id": "793884dc-29d9-4d49-823f-b760af0bc8eb",
   "metadata": {},
   "source": [
    "<h3>Hastaların memnuniyet için verdikleri sayıları 3 kategoride sınıflandırıp tanımladım  ve bunları yeni bir sütun olarak tablomuza ekliyorum </h3>"
   ]
  },
  {
   "cell_type": "code",
   "execution_count": 13,
   "id": "d13e7378-82ab-4dc6-9dd2-ab4e4e4ea707",
   "metadata": {},
   "outputs": [
    {
     "name": "stdout",
     "output_type": "stream",
     "text": [
      "satisfaction_group\n",
      "(Yüksek) Memnuniyet    738\n",
      "(Orta) Memnuniyet      262\n",
      "(Düşük) Memnuniyet       0\n",
      "Name: count, dtype: int64\n"
     ]
    },
    {
     "data": {
      "text/html": [
       "<div>\n",
       "<style scoped>\n",
       "    .dataframe tbody tr th:only-of-type {\n",
       "        vertical-align: middle;\n",
       "    }\n",
       "\n",
       "    .dataframe tbody tr th {\n",
       "        vertical-align: top;\n",
       "    }\n",
       "\n",
       "    .dataframe thead th {\n",
       "        text-align: right;\n",
       "    }\n",
       "</style>\n",
       "<table border=\"1\" class=\"dataframe\">\n",
       "  <thead>\n",
       "    <tr style=\"text-align: right;\">\n",
       "      <th></th>\n",
       "      <th>patient_id</th>\n",
       "      <th>name</th>\n",
       "      <th>age</th>\n",
       "      <th>arrival_date</th>\n",
       "      <th>departure_date</th>\n",
       "      <th>service</th>\n",
       "      <th>satisfaction</th>\n",
       "      <th>stay_duration_days</th>\n",
       "      <th>satisfaction_group</th>\n",
       "    </tr>\n",
       "  </thead>\n",
       "  <tbody>\n",
       "    <tr>\n",
       "      <th>0</th>\n",
       "      <td>PAT-09484753</td>\n",
       "      <td>Richard Rodriguez</td>\n",
       "      <td>24</td>\n",
       "      <td>2025-03-16</td>\n",
       "      <td>2025-03-22</td>\n",
       "      <td>surgery</td>\n",
       "      <td>61</td>\n",
       "      <td>6</td>\n",
       "      <td>(Orta) Memnuniyet</td>\n",
       "    </tr>\n",
       "    <tr>\n",
       "      <th>1</th>\n",
       "      <td>PAT-f0644084</td>\n",
       "      <td>Shannon Walker</td>\n",
       "      <td>6</td>\n",
       "      <td>2025-12-13</td>\n",
       "      <td>2025-12-14</td>\n",
       "      <td>surgery</td>\n",
       "      <td>83</td>\n",
       "      <td>1</td>\n",
       "      <td>(Yüksek) Memnuniyet</td>\n",
       "    </tr>\n",
       "    <tr>\n",
       "      <th>2</th>\n",
       "      <td>PAT-ac6162e4</td>\n",
       "      <td>Julia Torres</td>\n",
       "      <td>24</td>\n",
       "      <td>2025-06-29</td>\n",
       "      <td>2025-07-05</td>\n",
       "      <td>general_medicine</td>\n",
       "      <td>83</td>\n",
       "      <td>6</td>\n",
       "      <td>(Yüksek) Memnuniyet</td>\n",
       "    </tr>\n",
       "    <tr>\n",
       "      <th>3</th>\n",
       "      <td>PAT-3dda2bb5</td>\n",
       "      <td>Crystal Johnson</td>\n",
       "      <td>32</td>\n",
       "      <td>2025-10-12</td>\n",
       "      <td>2025-10-23</td>\n",
       "      <td>emergency</td>\n",
       "      <td>81</td>\n",
       "      <td>11</td>\n",
       "      <td>(Yüksek) Memnuniyet</td>\n",
       "    </tr>\n",
       "    <tr>\n",
       "      <th>4</th>\n",
       "      <td>PAT-08591375</td>\n",
       "      <td>Garrett Lin</td>\n",
       "      <td>25</td>\n",
       "      <td>2025-02-18</td>\n",
       "      <td>2025-02-25</td>\n",
       "      <td>ICU</td>\n",
       "      <td>76</td>\n",
       "      <td>7</td>\n",
       "      <td>(Yüksek) Memnuniyet</td>\n",
       "    </tr>\n",
       "  </tbody>\n",
       "</table>\n",
       "</div>"
      ],
      "text/plain": [
       "     patient_id               name  age arrival_date departure_date  \\\n",
       "0  PAT-09484753  Richard Rodriguez   24   2025-03-16     2025-03-22   \n",
       "1  PAT-f0644084     Shannon Walker    6   2025-12-13     2025-12-14   \n",
       "2  PAT-ac6162e4       Julia Torres   24   2025-06-29     2025-07-05   \n",
       "3  PAT-3dda2bb5    Crystal Johnson   32   2025-10-12     2025-10-23   \n",
       "4  PAT-08591375        Garrett Lin   25   2025-02-18     2025-02-25   \n",
       "\n",
       "            service  satisfaction  stay_duration_days   satisfaction_group  \n",
       "0           surgery            61                   6    (Orta) Memnuniyet  \n",
       "1           surgery            83                   1  (Yüksek) Memnuniyet  \n",
       "2  general_medicine            83                   6  (Yüksek) Memnuniyet  \n",
       "3         emergency            81                  11  (Yüksek) Memnuniyet  \n",
       "4               ICU            76                   7  (Yüksek) Memnuniyet  "
      ]
     },
     "execution_count": 13,
     "metadata": {},
     "output_type": "execute_result"
    }
   ],
   "source": [
    "\n",
    "bins = [0, 50, 70, 100] \n",
    "labels = ['(Düşük) Memnuniyet', '(Orta) Memnuniyet', '(Yüksek) Memnuniyet']\n",
    "\n",
    "patients['satisfaction_group'] = pd.cut(\n",
    "    patients['satisfaction'], \n",
    "    bins=bins, \n",
    "    labels=labels, \n",
    "    include_lowest=True\n",
    ")\n",
    "\n",
    "print(patients['satisfaction_group'].value_counts())\n",
    "patients.head()"
   ]
  },
  {
   "cell_type": "code",
   "execution_count": 14,
   "id": "443f2e3d-a69c-4215-9498-418e7adb8f08",
   "metadata": {},
   "outputs": [
    {
     "data": {
      "text/html": [
       "<div>\n",
       "<style scoped>\n",
       "    .dataframe tbody tr th:only-of-type {\n",
       "        vertical-align: middle;\n",
       "    }\n",
       "\n",
       "    .dataframe tbody tr th {\n",
       "        vertical-align: top;\n",
       "    }\n",
       "\n",
       "    .dataframe thead th {\n",
       "        text-align: right;\n",
       "    }\n",
       "</style>\n",
       "<table border=\"1\" class=\"dataframe\">\n",
       "  <thead>\n",
       "    <tr style=\"text-align: right;\">\n",
       "      <th></th>\n",
       "      <th>week</th>\n",
       "      <th>month</th>\n",
       "      <th>service</th>\n",
       "      <th>available_beds</th>\n",
       "      <th>patients_request</th>\n",
       "      <th>patients_admitted</th>\n",
       "      <th>patients_refused</th>\n",
       "      <th>patient_satisfaction</th>\n",
       "      <th>staff_morale</th>\n",
       "      <th>event</th>\n",
       "    </tr>\n",
       "  </thead>\n",
       "  <tbody>\n",
       "    <tr>\n",
       "      <th>0</th>\n",
       "      <td>1</td>\n",
       "      <td>1</td>\n",
       "      <td>emergency</td>\n",
       "      <td>32</td>\n",
       "      <td>76</td>\n",
       "      <td>32</td>\n",
       "      <td>44</td>\n",
       "      <td>67</td>\n",
       "      <td>70</td>\n",
       "      <td>none</td>\n",
       "    </tr>\n",
       "    <tr>\n",
       "      <th>1</th>\n",
       "      <td>1</td>\n",
       "      <td>1</td>\n",
       "      <td>surgery</td>\n",
       "      <td>45</td>\n",
       "      <td>130</td>\n",
       "      <td>45</td>\n",
       "      <td>85</td>\n",
       "      <td>83</td>\n",
       "      <td>78</td>\n",
       "      <td>flu</td>\n",
       "    </tr>\n",
       "    <tr>\n",
       "      <th>2</th>\n",
       "      <td>1</td>\n",
       "      <td>1</td>\n",
       "      <td>general_medicine</td>\n",
       "      <td>37</td>\n",
       "      <td>201</td>\n",
       "      <td>37</td>\n",
       "      <td>164</td>\n",
       "      <td>97</td>\n",
       "      <td>43</td>\n",
       "      <td>flu</td>\n",
       "    </tr>\n",
       "    <tr>\n",
       "      <th>3</th>\n",
       "      <td>1</td>\n",
       "      <td>1</td>\n",
       "      <td>ICU</td>\n",
       "      <td>22</td>\n",
       "      <td>31</td>\n",
       "      <td>22</td>\n",
       "      <td>9</td>\n",
       "      <td>84</td>\n",
       "      <td>91</td>\n",
       "      <td>flu</td>\n",
       "    </tr>\n",
       "    <tr>\n",
       "      <th>4</th>\n",
       "      <td>2</td>\n",
       "      <td>1</td>\n",
       "      <td>emergency</td>\n",
       "      <td>28</td>\n",
       "      <td>169</td>\n",
       "      <td>28</td>\n",
       "      <td>141</td>\n",
       "      <td>75</td>\n",
       "      <td>64</td>\n",
       "      <td>none</td>\n",
       "    </tr>\n",
       "  </tbody>\n",
       "</table>\n",
       "</div>"
      ],
      "text/plain": [
       "   week  month           service  available_beds  patients_request  \\\n",
       "0     1      1         emergency              32                76   \n",
       "1     1      1           surgery              45               130   \n",
       "2     1      1  general_medicine              37               201   \n",
       "3     1      1               ICU              22                31   \n",
       "4     2      1         emergency              28               169   \n",
       "\n",
       "   patients_admitted  patients_refused  patient_satisfaction  staff_morale  \\\n",
       "0                 32                44                    67            70   \n",
       "1                 45                85                    83            78   \n",
       "2                 37               164                    97            43   \n",
       "3                 22                 9                    84            91   \n",
       "4                 28               141                    75            64   \n",
       "\n",
       "  event  \n",
       "0  none  \n",
       "1   flu  \n",
       "2   flu  \n",
       "3   flu  \n",
       "4  none  "
      ]
     },
     "execution_count": 14,
     "metadata": {},
     "output_type": "execute_result"
    }
   ],
   "source": [
    "services_weekly.head()"
   ]
  },
  {
   "cell_type": "markdown",
   "id": "237e4863-604e-4139-89e7-5f33c502ab78",
   "metadata": {},
   "source": [
    "<h3>Services_weekly tablosunu  servislere göre gruplandırarak hastanenin hangi bölümüne ne kadar 'hasta yatış talebi'  gelmiş bunu buluyoruz</h3>"
   ]
  },
  {
   "cell_type": "code",
   "execution_count": 15,
   "id": "fc03dcbd-91ae-4a6c-97ca-73f7bf5fd77e",
   "metadata": {},
   "outputs": [
    {
     "name": "stdout",
     "output_type": "stream",
     "text": [
      "Toplam Hasta Talebi Servis Bazında : service\n",
      "ICU                  789\n",
      "emergency           6193\n",
      "general_medicine    4270\n",
      "surgery             2241\n",
      "Name: patients_request, dtype: int64\n"
     ]
    }
   ],
   "source": [
    "toplam_talep = services_weekly.groupby('service')['patients_request'].sum()\n",
    "print('Toplam Hasta Talebi Servis Bazında :', toplam_talep)\n",
    "\n",
    "\n"
   ]
  },
  {
   "cell_type": "markdown",
   "id": "3990083d-199b-4e99-9615-620bc586eb88",
   "metadata": {},
   "source": [
    "<h3>Services_weekly  tablosunda  hastaların yatış taleplerinin kabul edilme oranını inceliyorum.\n",
    "  -   ICU vs surgery  bölümleri  diğer bölümlere göre bariz daha başarılıdır yatak kapasitesi ve gelen talep kabul oranıyla bunu görebiliyoruz\n",
    "  -   emergency bölümü ise kriz içerisindedir diyebilirim  yüksek talep olmasına rağmen yatak kapasitesi talebe göre çok düşük kalmış ve bu yüzden çoğu hastanın talebi red edilmiş</h3>"
   ]
  },
  {
   "cell_type": "code",
   "execution_count": 16,
   "id": "1d8b7920-623f-4c31-abcc-8384ae03392c",
   "metadata": {},
   "outputs": [
    {
     "name": "stdout",
     "output_type": "stream",
     "text": [
      "--- Servis Bazında Yatış Kabul Oranı (%) ---\n",
      "\n",
      "                  total_admitted  total_request  acceptance_rate\n",
      "service                                                         \n",
      "ICU                          648            789            82.13\n",
      "surgery                     1686           2241            75.23\n",
      "general_medicine            2332           4270            54.61\n",
      "emergency                   1185           6193            19.13\n"
     ]
    }
   ],
   "source": [
    "\n",
    "kabul_oranlari = services_weekly.groupby('service').agg(\n",
    "    total_admitted=('patients_admitted', 'sum'),\n",
    "    total_request=('patients_request', 'sum')\n",
    ")\n",
    "\n",
    "kabul_oranlari['acceptance_rate'] = (\n",
    "    kabul_oranlari['total_admitted'] / kabul_oranlari['total_request']\n",
    ") * 100\n",
    "\n",
    "\n",
    "print(\"--- Servis Bazında Yatış Kabul Oranı (%) ---\\n\")\n",
    "print(kabul_oranlari.sort_values(by='acceptance_rate', ascending=False).round(2))"
   ]
  },
  {
   "cell_type": "markdown",
   "id": "8299521c-38a5-4908-8d33-bbfe578d82ef",
   "metadata": {},
   "source": [
    "<h3>Hastanedeki doktor, hemşire ve  asistan hemşirelerin sayısı hesaplıyoruz</h3>"
   ]
  },
  {
   "cell_type": "code",
   "execution_count": 26,
   "id": "8954771a-08d8-4e99-b830-af77e2d8403e",
   "metadata": {},
   "outputs": [
    {
     "data": {
      "text/plain": [
       "role\n",
       "doctor               18\n",
       "nurse                69\n",
       "nursing_assistant    23\n",
       "Name: staff_name, dtype: int64"
      ]
     },
     "execution_count": 26,
     "metadata": {},
     "output_type": "execute_result"
    }
   ],
   "source": [
    "staff.groupby('role')['staff_name'].count()\n",
    "    \n"
   ]
  },
  {
   "cell_type": "markdown",
   "id": "e501532c-c8b7-4da2-ad5a-0b1b50314b21",
   "metadata": {},
   "source": [
    "<h3>Doktorların kaç hafta çalıştıklarını hesaplıyorum  </h3>"
   ]
  },
  {
   "cell_type": "code",
   "execution_count": 32,
   "id": "84140ee0-bb0b-4489-bd34-c2e9bddacf5e",
   "metadata": {},
   "outputs": [
    {
     "name": "stdout",
     "output_type": "stream",
     "text": [
      "staff_name\n",
      "Abigail Shaffer      33\n",
      "Brittany Farmer      33\n",
      "Connie Lawrence      33\n",
      "Carol Tucker         32\n",
      "Daniel Wagner        32\n",
      "Anna Henderson       32\n",
      "John Whitehead       32\n",
      "Paula Moreno         32\n",
      "Jessica Callahan     32\n",
      "Aaron Wise           31\n",
      "Fred Smith           31\n",
      "Deborah Figueroa     31\n",
      "Allison Hill         30\n",
      "Tracy House          30\n",
      "Gina Moore           30\n",
      "Denise Jacobs        30\n",
      "Cristian Santos      30\n",
      "Angie Henderson      29\n",
      "James Brown          29\n",
      "Christina Walters    29\n",
      "Amber Kidd           28\n",
      "Noah Rhodes          28\n",
      "Name: present, dtype: int64\n"
     ]
    }
   ],
   "source": [
    "doctors = staff_schedule[staff_schedule['role']== 'doctor']\n",
    "most_active = doctors.groupby('staff_name')['present'].sum().sort_values(ascending = False )\n",
    "\n",
    "print(most_active)"
   ]
  },
  {
   "cell_type": "code",
   "execution_count": null,
   "id": "4a991258-85e8-42bb-87aa-4ec6926817c1",
   "metadata": {},
   "outputs": [],
   "source": []
  }
 ],
 "metadata": {
  "kernelspec": {
   "display_name": "Python 3 (ipykernel)",
   "language": "python",
   "name": "python3"
  },
  "language_info": {
   "codemirror_mode": {
    "name": "ipython",
    "version": 3
   },
   "file_extension": ".py",
   "mimetype": "text/x-python",
   "name": "python",
   "nbconvert_exporter": "python",
   "pygments_lexer": "ipython3",
   "version": "3.13.5"
  }
 },
 "nbformat": 4,
 "nbformat_minor": 5
}
