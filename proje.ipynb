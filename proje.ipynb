{
 "cells": [
  {
   "cell_type": "code",
   "execution_count": 2,
   "id": "72faab2f-b23b-4ed9-867f-2e20edc43c24",
   "metadata": {},
   "outputs": [],
   "source": [
    "import pandas as pd"
   ]
  },
  {
   "cell_type": "code",
   "execution_count": 3,
   "id": "6aecf979-16a7-4495-b0c1-7746b9fc73a8",
   "metadata": {},
   "outputs": [],
   "source": [
    "customers = pd.read_csv('jup/olist_customers_dataset.csv')\n",
    "geolocation = pd.read_csv('jup/olist_geolocation_dataset.csv')\n",
    "orderitems = pd.read_csv('jup/olist_order_items_dataset.csv')\n",
    "orderpayments = pd.read_csv('jup/olist_order_payments_dataset.csv')\n",
    "orderreview = pd.read_csv('jup/olist_order_reviews_dataset.csv')\n",
    "orders = pd.read_csv('jup/olist_orders_dataset.csv')\n",
    "productcategory = pd.read_csv('jup/olist_product_category_dataset.csv')\n",
    "products = pd.read_csv('jup/olist_products_dataset.csv')\n",
    "sellers = pd.read_csv('jup/olist_sellers_dataset.csv')"
   ]
  },
  {
   "cell_type": "code",
   "execution_count": 4,
   "id": "6c1fbc97-8e96-4e97-bce8-189f84dbd25d",
   "metadata": {},
   "outputs": [],
   "source": [
    "orders_customers = pd.merge(orders, customers, on = 'customer_id', how = 'inner')\n",
    "orders_customers_items = pd.merge(orders_customers, orderitems, on = 'order_id', how = 'inner')\n",
    "full_dataset = pd.merge(orders_customers_items, products, on='product_id', how='inner')\n",
    "final_dataset = pd.merge(full_dataset, sellers, on='seller_id', how='inner')"
   ]
  },
  {
   "cell_type": "markdown",
   "id": "caa4213b-9d3b-4000-9c45-89e0839b2e69",
   "metadata": {},
   "source": [
    "<h1>KATEGORİ BAZLI SATIŞ PERFORMANSI</h1>"
   ]
  },
  {
   "cell_type": "code",
   "execution_count": 37,
   "id": "e88702f3-c009-464f-a2ee-146afbdcc9ee",
   "metadata": {},
   "outputs": [
    {
     "data": {
      "text/html": [
       "<div>\n",
       "<style scoped>\n",
       "    .dataframe tbody tr th:only-of-type {\n",
       "        vertical-align: middle;\n",
       "    }\n",
       "\n",
       "    .dataframe tbody tr th {\n",
       "        vertical-align: top;\n",
       "    }\n",
       "\n",
       "    .dataframe thead th {\n",
       "        text-align: right;\n",
       "    }\n",
       "</style>\n",
       "<table border=\"1\" class=\"dataframe\">\n",
       "  <thead>\n",
       "    <tr style=\"text-align: right;\">\n",
       "      <th></th>\n",
       "      <th>Toplam_Satis_Adedi</th>\n",
       "      <th>Toplam_Ciro</th>\n",
       "    </tr>\n",
       "    <tr>\n",
       "      <th>product_category_name</th>\n",
       "      <th></th>\n",
       "      <th></th>\n",
       "    </tr>\n",
       "  </thead>\n",
       "  <tbody>\n",
       "    <tr>\n",
       "      <th>beleza_saude</th>\n",
       "      <td>9670</td>\n",
       "      <td>1258681.34</td>\n",
       "    </tr>\n",
       "    <tr>\n",
       "      <th>relogios_presentes</th>\n",
       "      <td>5991</td>\n",
       "      <td>1205005.68</td>\n",
       "    </tr>\n",
       "    <tr>\n",
       "      <th>cama_mesa_banho</th>\n",
       "      <td>11115</td>\n",
       "      <td>1036988.68</td>\n",
       "    </tr>\n",
       "    <tr>\n",
       "      <th>esporte_lazer</th>\n",
       "      <td>8641</td>\n",
       "      <td>988048.97</td>\n",
       "    </tr>\n",
       "    <tr>\n",
       "      <th>informatica_acessorios</th>\n",
       "      <td>7827</td>\n",
       "      <td>911954.32</td>\n",
       "    </tr>\n",
       "    <tr>\n",
       "      <th>moveis_decoracao</th>\n",
       "      <td>8334</td>\n",
       "      <td>729762.49</td>\n",
       "    </tr>\n",
       "    <tr>\n",
       "      <th>cool_stuff</th>\n",
       "      <td>3796</td>\n",
       "      <td>635290.85</td>\n",
       "    </tr>\n",
       "    <tr>\n",
       "      <th>utilidades_domesticas</th>\n",
       "      <td>6964</td>\n",
       "      <td>632248.66</td>\n",
       "    </tr>\n",
       "    <tr>\n",
       "      <th>automotivo</th>\n",
       "      <td>4235</td>\n",
       "      <td>592720.11</td>\n",
       "    </tr>\n",
       "    <tr>\n",
       "      <th>ferramentas_jardim</th>\n",
       "      <td>4347</td>\n",
       "      <td>485256.46</td>\n",
       "    </tr>\n",
       "  </tbody>\n",
       "</table>\n",
       "</div>"
      ],
      "text/plain": [
       "                        Toplam_Satis_Adedi  Toplam_Ciro\n",
       "product_category_name                                  \n",
       "beleza_saude                          9670   1258681.34\n",
       "relogios_presentes                    5991   1205005.68\n",
       "cama_mesa_banho                      11115   1036988.68\n",
       "esporte_lazer                         8641    988048.97\n",
       "informatica_acessorios                7827    911954.32\n",
       "moveis_decoracao                      8334    729762.49\n",
       "cool_stuff                            3796    635290.85\n",
       "utilidades_domesticas                 6964    632248.66\n",
       "automotivo                            4235    592720.11\n",
       "ferramentas_jardim                    4347    485256.46"
      ]
     },
     "execution_count": 37,
     "metadata": {},
     "output_type": "execute_result"
    }
   ],
   "source": [
    "kategori_performans = final_dataset.groupby('product_category_name').agg(\n",
    "    Toplam_Satis_Adedi=('order_item_id','size'),\n",
    "    Toplam_Ciro=('price','sum')\n",
    ").sort_values(by='Toplam_Ciro', ascending=False)\n",
    "\n",
    "kategori_performans.nlargest(10, 'Toplam_Ciro')"
   ]
  },
  {
   "cell_type": "markdown",
   "id": "1f089c55-64e2-4446-8673-376ce0d31c13",
   "metadata": {},
   "source": [
    "<h1>ORTALAMA FİYAT BAZINDA EN PAHALI KATEGORİLER</h1>"
   ]
  },
  {
   "cell_type": "code",
   "execution_count": 4,
   "id": "f0a3add7-7b84-42ba-83ad-f039b823837e",
   "metadata": {},
   "outputs": [
    {
     "name": "stdout",
     "output_type": "stream",
     "text": [
      "                                               Ortalama_Fiyat\n",
      "product_category_name                                        \n",
      "pcs                                               1098.340542\n",
      "portateis_casa_forno_e_cafe                        624.285658\n",
      "eletrodomesticos_2                                 476.124958\n",
      "agro_industria_e_comercio                          342.124858\n",
      "instrumentos_musicais                              281.616000\n",
      "eletroportateis                                    280.778468\n",
      "portateis_cozinha_e_preparadores_de_alimentos      264.568667\n",
      "telefonia_fixa                                     225.693182\n",
      "construcao_ferramentas_seguranca                   208.992371\n",
      "relogios_presentes                                 201.135984\n"
     ]
    }
   ],
   "source": [
    "ort_fiyat_kategori = (final_dataset.groupby('product_category_name')\n",
    "                      .agg(Ortalama_Fiyat=('price', 'mean'))\n",
    "                      .sort_values('Ortalama_Fiyat', ascending=False)\n",
    "                      .head(10))\n",
    "print(ort_fiyat_kategori)"
   ]
  },
  {
   "cell_type": "markdown",
   "id": "a0199962-55f9-4fad-98ab-d13d8a7e36f5",
   "metadata": {},
   "source": [
    "<h1>EN ÇOK SİPARİŞ VEREN MÜŞTERİLER LİSTESİ</h1>"
   ]
  },
  {
   "cell_type": "code",
   "execution_count": 5,
   "id": "807b0ab7-39fb-4358-a900-ae16a0101e16",
   "metadata": {},
   "outputs": [
    {
     "name": "stdout",
     "output_type": "stream",
     "text": [
      "customer_unique_id\n",
      "c8460e4251689ba205045f3ea17884a1    24\n",
      "4546caea018ad8c692964e3382debd19    21\n",
      "698e1cf81d01a3d389d96145f7fa6df8    20\n",
      "c402f431464c72e27330a67f7b94d4fb    20\n",
      "0f5ac8d5c31de21d2f25e24be15bbffb    18\n",
      "8d50f5eadf50201ccdcedfb9e2ac8455    16\n",
      "eae0a83d752b1dd32697e0e7b4221656    15\n",
      "11f97da02237a49c8e783dfda6f50e8e    15\n",
      "f7ea4eef770a388bd5b225acfc546604    14\n",
      "3e43e6105506432c953e165fb2acf44c    14\n",
      "Name: order_id, dtype: int64\n"
     ]
    }
   ],
   "source": [
    "top_customers = (\n",
    "    final_dataset.groupby(\"customer_unique_id\")['order_id']\n",
    "    .count()\n",
    "    .sort_values(ascending=False)\n",
    "    .head(10)\n",
    ")\n",
    "print(top_customers)"
   ]
  },
  {
   "cell_type": "markdown",
   "id": "ed7b3ed2-28ce-4f69-a917-93456f70145f",
   "metadata": {},
   "source": [
    "<h1>EN ÇOK SATIŞ YAPAN SATICILARIN LİSTESİ</h1>"
   ]
  },
  {
   "cell_type": "code",
   "execution_count": 7,
   "id": "549dd82a-29d0-45b7-9784-2edb20c23db4",
   "metadata": {},
   "outputs": [
    {
     "name": "stdout",
     "output_type": "stream",
     "text": [
      "seller_id\n",
      "6560211a19b47992c3666cc44a7e94c0    2033\n",
      "4a3ca9315b744ce9f8e9374361493884    1987\n",
      "1f50f920176fa81dab994f9023523100    1931\n",
      "cc419e0650a3c5ba77189a1882b7556a    1775\n",
      "da8622b14eb17ae2831f4ac5b9dab84a    1551\n",
      "955fee9216a65b617aa5c0531780ce60    1499\n",
      "1025f0e2d44d7041d6cf58b6550e0bfa    1428\n",
      "7c67e1448b00f6e969d365cea6b010ab    1364\n",
      "ea8482cd71df3c1969d7b9473ff13abc    1203\n",
      "7a67c85e85bb2ce8582c35f2203ad736    1171\n",
      "Name: order_id, dtype: int64\n"
     ]
    }
   ],
   "source": [
    "top_sellers = (\n",
    "    final_dataset.groupby(\"seller_id\")['order_id']\n",
    "    .count()\n",
    "    .sort_values(ascending=False)\n",
    "    .head(10)\n",
    ")\n",
    "print(top_sellers)"
   ]
  },
  {
   "cell_type": "markdown",
   "id": "f2aafe86-e027-4d66-b39f-2de1def20aab",
   "metadata": {},
   "source": [
    "<H1>KATEGORİ BAZLI ÜRÜNLERİN ORTALAMA TESLİM EDİLME SÜRELERİ </H1>"
   ]
  },
  {
   "cell_type": "code",
   "execution_count": 12,
   "id": "961d492f-ea85-470c-b24a-ca4dcdb057e5",
   "metadata": {},
   "outputs": [
    {
     "name": "stdout",
     "output_type": "stream",
     "text": [
      "product_category_name\n",
      "artes_e_artesanato                               5.291667\n",
      "la_cuisine                                       7.071429\n",
      "livros_importados                                7.666667\n",
      "portateis_cozinha_e_preparadores_de_alimentos    7.785714\n",
      "fashion_roupa_infanto_juvenil                    8.142857\n",
      "pc_gamer                                         8.750000\n",
      "artigos_de_festas                                8.904762\n",
      "alimentos                                        9.100200\n",
      "construcao_ferramentas_iluminacao                9.245847\n",
      "portateis_casa_forno_e_cafe                      9.397260\n",
      "Name: delivery_time_days, dtype: float64\n"
     ]
    }
   ],
   "source": [
    "delivery_by_category = (\n",
    "    final_dataset.groupby(\"product_category_name\")['delivery_time_days']\n",
    "    .mean()\n",
    "    .sort_values()\n",
    "    .head(10)\n",
    ")\n",
    "print(delivery_by_category)"
   ]
  },
  {
   "cell_type": "markdown",
   "id": "043235f9-f830-4c36-80d6-e5a18e77a09c",
   "metadata": {},
   "source": [
    "<h1>YILLARA GÖRE SİPARİŞ SAYILARI</h1>"
   ]
  },
  {
   "cell_type": "code",
   "execution_count": 18,
   "id": "c9b689ec-6fc3-45c1-a64b-d5ab58e82464",
   "metadata": {},
   "outputs": [
    {
     "name": "stdout",
     "output_type": "stream",
     "text": [
      "year\n",
      "2016      312\n",
      "2017    44579\n",
      "2018    53775\n",
      "Name: order_id, dtype: int64\n"
     ]
    }
   ],
   "source": [
    "\n",
    "final_dataset['year'] = final_dataset['order_purchase_timestamp'].dt.year\n",
    "\n",
    "orders_by_year = (\n",
    "    final_dataset.groupby('year')['order_id']\n",
    "    .nunique()\n",
    "    .sort_index()\n",
    ")\n",
    "\n",
    "print(orders_by_year)"
   ]
  },
  {
   "cell_type": "markdown",
   "id": "ab5146e1-7172-484d-9dd7-3778817d12c8",
   "metadata": {},
   "source": [
    "<h1>ORTALAMA SEPET  BÜYÜKLÜĞÜ</h1>"
   ]
  },
  {
   "cell_type": "code",
   "execution_count": 19,
   "id": "d2e26c5c-5e4c-43b7-9df2-b62d44dbd5cf",
   "metadata": {},
   "outputs": [
    {
     "name": "stdout",
     "output_type": "stream",
     "text": [
      "Ortalama sepet büyüklüğü: 137.75 BRL Brezilya para birimi\n"
     ]
    }
   ],
   "source": [
    "order_revenue = (\n",
    "    final_dataset.groupby('order_id')['price']\n",
    "    .sum()\n",
    ")\n",
    "\n",
    "print(\"Ortalama sepet büyüklüğü:\", round(order_revenue.mean(), 2), \"BRL Brezilya para birimi\")\n"
   ]
  },
  {
   "cell_type": "markdown",
   "id": "913f9194-040e-4860-b3d5-b1a45e1f6339",
   "metadata": {},
   "source": [
    "<H1>EN ÇOK SATAN 10 ÜRÜN</H1>"
   ]
  },
  {
   "cell_type": "code",
   "execution_count": 11,
   "id": "32961c33-7306-4a18-8d77-446206d765e4",
   "metadata": {},
   "outputs": [
    {
     "name": "stdout",
     "output_type": "stream",
     "text": [
      "                         product_id  sales_count\n",
      "0  aca2eb7d00ea1a7b8ebd4e68314663af          527\n",
      "1  99a4788cb24856965c36a24e339b6058          488\n",
      "2  422879e10f46682990de24d770e7f83d          484\n",
      "3  389d119b48cf3043d311335e499d9c6b          392\n",
      "4  368c6c730842d78016ad823897a372db          388\n",
      "5  53759a2ecddad2bb87a079a1f1519f73          373\n",
      "6  d1c427060a0f73f6b889a5c7c61f2ac4          343\n",
      "7  53b36df67ebb7c41585e8d54d6772e08          323\n",
      "8  154e7e31ebfa092203795c972e5804a6          281\n",
      "9  3dd2a17168ec895c781a9191c1e95ad7          274\n"
     ]
    }
   ],
   "source": [
    "top_10_products = (\n",
    "    final_dataset.groupby('product_id')\n",
    "    .agg(sales_count=('product_id', 'count'))\n",
    "    .sort_values('sales_count', ascending=False)\n",
    "    .head(10)\n",
    "    .reset_index()\n",
    ")\n",
    "\n",
    "print(top_10_products)\n"
   ]
  },
  {
   "cell_type": "code",
   "execution_count": null,
   "id": "ce8fb39e-d64f-4665-8b96-0abc0c501daf",
   "metadata": {},
   "outputs": [],
   "source": []
  }
 ],
 "metadata": {
  "kernelspec": {
   "display_name": "Python 3 (ipykernel)",
   "language": "python",
   "name": "python3"
  },
  "language_info": {
   "codemirror_mode": {
    "name": "ipython",
    "version": 3
   },
   "file_extension": ".py",
   "mimetype": "text/x-python",
   "name": "python",
   "nbconvert_exporter": "python",
   "pygments_lexer": "ipython3",
   "version": "3.13.5"
  }
 },
 "nbformat": 4,
 "nbformat_minor": 5
}
